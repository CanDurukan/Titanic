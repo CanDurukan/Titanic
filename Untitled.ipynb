{
 "cells": [
  {
   "cell_type": "code",
   "execution_count": 1,
   "id": "77f9b421",
   "metadata": {},
   "outputs": [
    {
     "name": "stdout",
     "output_type": "stream",
     "text": [
      "WARNING:tensorflow:From C:\\Users\\can-d\\anaconda3\\Lib\\site-packages\\keras\\src\\losses.py:2976: The name tf.losses.sparse_softmax_cross_entropy is deprecated. Please use tf.compat.v1.losses.sparse_softmax_cross_entropy instead.\n",
      "\n"
     ]
    }
   ],
   "source": [
    "import numpy as np\n",
    "import pandas as pd\n",
    "import seaborn as sns\n",
    "import tensorflow as tf\n",
    "from tensorflow.keras.models import Sequential\n",
    "from tensorflow.keras.layers import Dense, Activation,Dropout\n",
    "from tensorflow.keras.callbacks import EarlyStopping\n",
    "from sklearn.metrics import classification_report,confusion_matrix\n",
    "from sklearn.preprocessing import MinMaxScaler\n",
    "from sklearn.model_selection import train_test_split"
   ]
  },
  {
   "cell_type": "code",
   "execution_count": 2,
   "id": "2c87659c",
   "metadata": {},
   "outputs": [],
   "source": [
    "train = pd.read_csv('train.csv')\n",
    "test = pd.read_csv('test.csv')\n",
    "y_test = pd.read_csv('gender_submission.csv')"
   ]
  },
  {
   "cell_type": "code",
   "execution_count": 3,
   "id": "e06f8769",
   "metadata": {},
   "outputs": [
    {
     "data": {
      "text/html": [
       "<div>\n",
       "<style scoped>\n",
       "    .dataframe tbody tr th:only-of-type {\n",
       "        vertical-align: middle;\n",
       "    }\n",
       "\n",
       "    .dataframe tbody tr th {\n",
       "        vertical-align: top;\n",
       "    }\n",
       "\n",
       "    .dataframe thead th {\n",
       "        text-align: right;\n",
       "    }\n",
       "</style>\n",
       "<table border=\"1\" class=\"dataframe\">\n",
       "  <thead>\n",
       "    <tr style=\"text-align: right;\">\n",
       "      <th></th>\n",
       "      <th>PassengerId</th>\n",
       "      <th>Pclass</th>\n",
       "      <th>Name</th>\n",
       "      <th>Sex</th>\n",
       "      <th>Age</th>\n",
       "      <th>SibSp</th>\n",
       "      <th>Parch</th>\n",
       "      <th>Ticket</th>\n",
       "      <th>Fare</th>\n",
       "      <th>Cabin</th>\n",
       "      <th>Embarked</th>\n",
       "    </tr>\n",
       "  </thead>\n",
       "  <tbody>\n",
       "    <tr>\n",
       "      <th>0</th>\n",
       "      <td>892</td>\n",
       "      <td>3</td>\n",
       "      <td>Kelly, Mr. James</td>\n",
       "      <td>male</td>\n",
       "      <td>34.5</td>\n",
       "      <td>0</td>\n",
       "      <td>0</td>\n",
       "      <td>330911</td>\n",
       "      <td>7.8292</td>\n",
       "      <td>NaN</td>\n",
       "      <td>Q</td>\n",
       "    </tr>\n",
       "    <tr>\n",
       "      <th>1</th>\n",
       "      <td>893</td>\n",
       "      <td>3</td>\n",
       "      <td>Wilkes, Mrs. James (Ellen Needs)</td>\n",
       "      <td>female</td>\n",
       "      <td>47.0</td>\n",
       "      <td>1</td>\n",
       "      <td>0</td>\n",
       "      <td>363272</td>\n",
       "      <td>7.0000</td>\n",
       "      <td>NaN</td>\n",
       "      <td>S</td>\n",
       "    </tr>\n",
       "    <tr>\n",
       "      <th>2</th>\n",
       "      <td>894</td>\n",
       "      <td>2</td>\n",
       "      <td>Myles, Mr. Thomas Francis</td>\n",
       "      <td>male</td>\n",
       "      <td>62.0</td>\n",
       "      <td>0</td>\n",
       "      <td>0</td>\n",
       "      <td>240276</td>\n",
       "      <td>9.6875</td>\n",
       "      <td>NaN</td>\n",
       "      <td>Q</td>\n",
       "    </tr>\n",
       "    <tr>\n",
       "      <th>3</th>\n",
       "      <td>895</td>\n",
       "      <td>3</td>\n",
       "      <td>Wirz, Mr. Albert</td>\n",
       "      <td>male</td>\n",
       "      <td>27.0</td>\n",
       "      <td>0</td>\n",
       "      <td>0</td>\n",
       "      <td>315154</td>\n",
       "      <td>8.6625</td>\n",
       "      <td>NaN</td>\n",
       "      <td>S</td>\n",
       "    </tr>\n",
       "    <tr>\n",
       "      <th>4</th>\n",
       "      <td>896</td>\n",
       "      <td>3</td>\n",
       "      <td>Hirvonen, Mrs. Alexander (Helga E Lindqvist)</td>\n",
       "      <td>female</td>\n",
       "      <td>22.0</td>\n",
       "      <td>1</td>\n",
       "      <td>1</td>\n",
       "      <td>3101298</td>\n",
       "      <td>12.2875</td>\n",
       "      <td>NaN</td>\n",
       "      <td>S</td>\n",
       "    </tr>\n",
       "    <tr>\n",
       "      <th>...</th>\n",
       "      <td>...</td>\n",
       "      <td>...</td>\n",
       "      <td>...</td>\n",
       "      <td>...</td>\n",
       "      <td>...</td>\n",
       "      <td>...</td>\n",
       "      <td>...</td>\n",
       "      <td>...</td>\n",
       "      <td>...</td>\n",
       "      <td>...</td>\n",
       "      <td>...</td>\n",
       "    </tr>\n",
       "    <tr>\n",
       "      <th>413</th>\n",
       "      <td>1305</td>\n",
       "      <td>3</td>\n",
       "      <td>Spector, Mr. Woolf</td>\n",
       "      <td>male</td>\n",
       "      <td>NaN</td>\n",
       "      <td>0</td>\n",
       "      <td>0</td>\n",
       "      <td>A.5. 3236</td>\n",
       "      <td>8.0500</td>\n",
       "      <td>NaN</td>\n",
       "      <td>S</td>\n",
       "    </tr>\n",
       "    <tr>\n",
       "      <th>414</th>\n",
       "      <td>1306</td>\n",
       "      <td>1</td>\n",
       "      <td>Oliva y Ocana, Dona. Fermina</td>\n",
       "      <td>female</td>\n",
       "      <td>39.0</td>\n",
       "      <td>0</td>\n",
       "      <td>0</td>\n",
       "      <td>PC 17758</td>\n",
       "      <td>108.9000</td>\n",
       "      <td>C105</td>\n",
       "      <td>C</td>\n",
       "    </tr>\n",
       "    <tr>\n",
       "      <th>415</th>\n",
       "      <td>1307</td>\n",
       "      <td>3</td>\n",
       "      <td>Saether, Mr. Simon Sivertsen</td>\n",
       "      <td>male</td>\n",
       "      <td>38.5</td>\n",
       "      <td>0</td>\n",
       "      <td>0</td>\n",
       "      <td>SOTON/O.Q. 3101262</td>\n",
       "      <td>7.2500</td>\n",
       "      <td>NaN</td>\n",
       "      <td>S</td>\n",
       "    </tr>\n",
       "    <tr>\n",
       "      <th>416</th>\n",
       "      <td>1308</td>\n",
       "      <td>3</td>\n",
       "      <td>Ware, Mr. Frederick</td>\n",
       "      <td>male</td>\n",
       "      <td>NaN</td>\n",
       "      <td>0</td>\n",
       "      <td>0</td>\n",
       "      <td>359309</td>\n",
       "      <td>8.0500</td>\n",
       "      <td>NaN</td>\n",
       "      <td>S</td>\n",
       "    </tr>\n",
       "    <tr>\n",
       "      <th>417</th>\n",
       "      <td>1309</td>\n",
       "      <td>3</td>\n",
       "      <td>Peter, Master. Michael J</td>\n",
       "      <td>male</td>\n",
       "      <td>NaN</td>\n",
       "      <td>1</td>\n",
       "      <td>1</td>\n",
       "      <td>2668</td>\n",
       "      <td>22.3583</td>\n",
       "      <td>NaN</td>\n",
       "      <td>C</td>\n",
       "    </tr>\n",
       "  </tbody>\n",
       "</table>\n",
       "<p>418 rows × 11 columns</p>\n",
       "</div>"
      ],
      "text/plain": [
       "     PassengerId  Pclass                                          Name  \\\n",
       "0            892       3                              Kelly, Mr. James   \n",
       "1            893       3              Wilkes, Mrs. James (Ellen Needs)   \n",
       "2            894       2                     Myles, Mr. Thomas Francis   \n",
       "3            895       3                              Wirz, Mr. Albert   \n",
       "4            896       3  Hirvonen, Mrs. Alexander (Helga E Lindqvist)   \n",
       "..           ...     ...                                           ...   \n",
       "413         1305       3                            Spector, Mr. Woolf   \n",
       "414         1306       1                  Oliva y Ocana, Dona. Fermina   \n",
       "415         1307       3                  Saether, Mr. Simon Sivertsen   \n",
       "416         1308       3                           Ware, Mr. Frederick   \n",
       "417         1309       3                      Peter, Master. Michael J   \n",
       "\n",
       "        Sex   Age  SibSp  Parch              Ticket      Fare Cabin Embarked  \n",
       "0      male  34.5      0      0              330911    7.8292   NaN        Q  \n",
       "1    female  47.0      1      0              363272    7.0000   NaN        S  \n",
       "2      male  62.0      0      0              240276    9.6875   NaN        Q  \n",
       "3      male  27.0      0      0              315154    8.6625   NaN        S  \n",
       "4    female  22.0      1      1             3101298   12.2875   NaN        S  \n",
       "..      ...   ...    ...    ...                 ...       ...   ...      ...  \n",
       "413    male   NaN      0      0           A.5. 3236    8.0500   NaN        S  \n",
       "414  female  39.0      0      0            PC 17758  108.9000  C105        C  \n",
       "415    male  38.5      0      0  SOTON/O.Q. 3101262    7.2500   NaN        S  \n",
       "416    male   NaN      0      0              359309    8.0500   NaN        S  \n",
       "417    male   NaN      1      1                2668   22.3583   NaN        C  \n",
       "\n",
       "[418 rows x 11 columns]"
      ]
     },
     "execution_count": 3,
     "metadata": {},
     "output_type": "execute_result"
    }
   ],
   "source": [
    "test"
   ]
  },
  {
   "cell_type": "code",
   "execution_count": 4,
   "id": "d7b73bb4",
   "metadata": {},
   "outputs": [
    {
     "data": {
      "text/plain": [
       "12.459677880184334"
      ]
     },
     "execution_count": 4,
     "metadata": {},
     "output_type": "execute_result"
    }
   ],
   "source": [
    "test[test.Pclass == 3].Fare.mean()"
   ]
  },
  {
   "cell_type": "code",
   "execution_count": 5,
   "id": "b34d67d1",
   "metadata": {},
   "outputs": [],
   "source": [
    "train = train.drop(columns=['Name'])"
   ]
  },
  {
   "cell_type": "code",
   "execution_count": 6,
   "id": "db736fd1",
   "metadata": {},
   "outputs": [],
   "source": [
    "test = test.drop(columns=['Name'])"
   ]
  },
  {
   "cell_type": "code",
   "execution_count": 7,
   "id": "2ebca59e",
   "metadata": {},
   "outputs": [],
   "source": [
    "Male = pd.get_dummies(train.Sex, dtype=int, drop_first=1)"
   ]
  },
  {
   "cell_type": "code",
   "execution_count": 8,
   "id": "62881e68",
   "metadata": {},
   "outputs": [],
   "source": [
    "MaleT = pd.get_dummies(test.Sex, dtype=int, drop_first=1)\n",
    "test = pd.concat([test,MaleT], axis=1).drop(columns=['Sex'])"
   ]
  },
  {
   "cell_type": "code",
   "execution_count": 9,
   "id": "53a98650",
   "metadata": {},
   "outputs": [],
   "source": [
    "train = pd.concat([train,Male], axis=1).drop(columns=['Sex'])"
   ]
  },
  {
   "cell_type": "code",
   "execution_count": 10,
   "id": "b7ddaf91",
   "metadata": {},
   "outputs": [],
   "source": [
    "test = pd.concat([test,y_test], axis=1)"
   ]
  },
  {
   "cell_type": "code",
   "execution_count": 11,
   "id": "65d77a8e",
   "metadata": {},
   "outputs": [],
   "source": [
    "test = test.drop(columns=['PassengerId'])\n",
    "train = train.drop(columns=['PassengerId'])"
   ]
  },
  {
   "cell_type": "code",
   "execution_count": 16,
   "id": "dbeb33e0",
   "metadata": {},
   "outputs": [
    {
     "data": {
      "text/plain": [
       "<Axes: >"
      ]
     },
     "execution_count": 16,
     "metadata": {},
     "output_type": "execute_result"
    },
    {
     "data": {
      "image/png": "[encoded data removed]",
      "text/plain": [
       "<Figure size 640x480 with 2 Axes>"
      ]
     },
     "metadata": {},
     "output_type": "display_data"
    }
   ],
   "source": [
    "sns.heatmap(test.isnull(),cmap='viridis')"
   ]
  },
  {
   "cell_type": "code",
   "execution_count": 657,
   "id": "c3fa0026",
   "metadata": {},
   "outputs": [],
   "source": [
    "train = train.drop(columns=['Cabin'])"
   ]
  },
  {
   "cell_type": "code",
   "execution_count": 658,
   "id": "202d4051",
   "metadata": {},
   "outputs": [],
   "source": [
    "test = test.drop(columns=['Cabin'])"
   ]
  },
  {
   "cell_type": "code",
   "execution_count": 659,
   "id": "b9a0945c",
   "metadata": {},
   "outputs": [
    {
     "data": {
      "text/plain": [
       "<Axes: xlabel='Pclass', ylabel='Fare'>"
      ]
     },
     "execution_count": 659,
     "metadata": {},
     "output_type": "execute_result"
    },
    {
     "data": {
      "image/png": "[encoded data removed]",
      "text/plain": [
       "<Figure size 640x480 with 1 Axes>"
      ]
     },
     "metadata": {},
     "output_type": "display_data"
    }
   ],
   "source": [
    "sns.boxplot(x='Pclass', y='Fare', data=train)"
   ]
  },
  {
   "cell_type": "code",
   "execution_count": 660,
   "id": "1d4e9232",
   "metadata": {},
   "outputs": [],
   "source": [
    "def apred(row):\n",
    "    age = row['Age']\n",
    "    clas = row['Pclass']\n",
    "    \n",
    "    if pd.isna(age):\n",
    "        if clas == 1:\n",
    "            age = 25\n",
    "        elif clas == 2:\n",
    "            age = 30\n",
    "        elif clas == 3:\n",
    "            age = 40\n",
    "    \n",
    "    return age"
   ]
  },
  {
   "cell_type": "code",
   "execution_count": 661,
   "id": "3ce3fba6",
   "metadata": {},
   "outputs": [],
   "source": [
    "def fpred(row):\n",
    "    fare = row['Fare']\n",
    "    clas = row['Pclass']\n",
    "    \n",
    "    if pd.isna(fare):\n",
    "        if clas == 1:\n",
    "            fare = 95\n",
    "        elif clas == 2:\n",
    "            fare = 22\n",
    "        elif clas == 3:\n",
    "            fare = 12\n",
    "    \n",
    "    return fare"
   ]
  },
  {
   "cell_type": "code",
   "execution_count": 662,
   "id": "f40b8ba9",
   "metadata": {},
   "outputs": [],
   "source": [
    "train['Age'] = train.apply(apred, axis=1)\n",
    "test['Age'] = test.apply(apred, axis=1)"
   ]
  },
  {
   "cell_type": "code",
   "execution_count": 663,
   "id": "9c9f3796",
   "metadata": {},
   "outputs": [],
   "source": [
    "test['Fare'] = test.apply(fpred, axis=1)"
   ]
  },
  {
   "cell_type": "code",
   "execution_count": 664,
   "id": "c20202af",
   "metadata": {},
   "outputs": [],
   "source": [
    "train = train.drop(columns=['Ticket'])\n",
    "test = test.drop(columns=['Ticket'])"
   ]
  },
  {
   "cell_type": "code",
   "execution_count": 665,
   "id": "72391991",
   "metadata": {},
   "outputs": [],
   "source": [
    "Emb = pd.get_dummies(train.Embarked, dtype=int, drop_first=1)\n",
    "Embt = pd.get_dummies(test.Embarked, dtype=int, drop_first=1)"
   ]
  },
  {
   "cell_type": "code",
   "execution_count": 666,
   "id": "95953b6e",
   "metadata": {},
   "outputs": [],
   "source": [
    "train = pd.concat([train,Emb], axis=1).drop(columns=['Embarked'])\n",
    "test = pd.concat([test,Embt], axis=1).drop(columns=['Embarked'])"
   ]
  },
  {
   "cell_type": "code",
   "execution_count": null,
   "id": "53411180",
   "metadata": {},
   "outputs": [],
   "source": []
  },
  {
   "cell_type": "code",
   "execution_count": 667,
   "id": "8586db33",
   "metadata": {},
   "outputs": [
    {
     "data": {
      "text/plain": [
       "array([[1.        , 0.27117366, 0.125     , ..., 1.        , 0.        ,\n",
       "        1.        ],\n",
       "       [0.        , 0.4722292 , 0.125     , ..., 0.        , 0.        ,\n",
       "        0.        ],\n",
       "       [1.        , 0.32143755, 0.        , ..., 0.        , 0.        ,\n",
       "        1.        ],\n",
       "       ...,\n",
       "       [1.        , 0.49736115, 0.125     , ..., 0.        , 0.        ,\n",
       "        1.        ],\n",
       "       [0.        , 0.32143755, 0.        , ..., 1.        , 0.        ,\n",
       "        0.        ],\n",
       "       [1.        , 0.39683338, 0.        , ..., 1.        , 1.        ,\n",
       "        0.        ]])"
      ]
     },
     "execution_count": 667,
     "metadata": {},
     "output_type": "execute_result"
    }
   ],
   "source": [
    "X_train"
   ]
  },
  {
   "cell_type": "code",
   "execution_count": 668,
   "id": "3e6fbba2",
   "metadata": {},
   "outputs": [
    {
     "data": {
      "text/plain": [
       "array([[1.        , 0.4282483 , 0.        , ..., 1.        , 1.        ,\n",
       "        0.        ],\n",
       "       [1.        , 0.58532295, 0.125     , ..., 0.        , 0.        ,\n",
       "        1.        ],\n",
       "       [0.5       , 0.77381252, 0.        , ..., 1.        , 1.        ,\n",
       "        0.        ],\n",
       "       ...,\n",
       "       [1.        , 0.47851219, 0.        , ..., 1.        , 0.        ,\n",
       "        1.        ],\n",
       "       [1.        , 0.49736115, 0.        , ..., 1.        , 0.        ,\n",
       "        1.        ],\n",
       "       [1.        , 0.49736115, 0.125     , ..., 1.        , 0.        ,\n",
       "        0.        ]])"
      ]
     },
     "execution_count": 668,
     "metadata": {},
     "output_type": "execute_result"
    }
   ],
   "source": [
    "X_test"
   ]
  },
  {
   "cell_type": "code",
   "execution_count": 669,
   "id": "5f14d61f",
   "metadata": {},
   "outputs": [],
   "source": [
    "X_train = train.drop(columns=['Survived'])\n",
    "X_test = test.drop(columns=['Survived'])\n",
    "y_train = train.Survived\n",
    "y_test = test.Survived"
   ]
  },
  {
   "cell_type": "code",
   "execution_count": 670,
   "id": "55c9cc93",
   "metadata": {},
   "outputs": [],
   "source": [
    "scaler = MinMaxScaler()"
   ]
  },
  {
   "cell_type": "code",
   "execution_count": 671,
   "id": "217020b1",
   "metadata": {},
   "outputs": [
    {
     "data": {
      "text/html": [
       "<style>#sk-container-id-5 {color: black;}#sk-container-id-5 pre{padding: 0;}#sk-container-id-5 div.sk-toggleable {background-color: white;}#sk-container-id-5 label.sk-toggleable__label {cursor: pointer;display: block;width: 100%;margin-bottom: 0;padding: 0.3em;box-sizing: border-box;text-align: center;}#sk-container-id-5 label.sk-toggleable__label-arrow:before {content: \"▸\";float: left;margin-right: 0.25em;color: #696969;}#sk-container-id-5 label.sk-toggleable__label-arrow:hover:before {color: black;}#sk-container-id-5 div.sk-estimator:hover label.sk-toggleable__label-arrow:before {color: black;}#sk-container-id-5 div.sk-toggleable__content {max-height: 0;max-width: 0;overflow: hidden;text-align: left;background-color: #f0f8ff;}#sk-container-id-5 div.sk-toggleable__content pre {margin: 0.2em;color: black;border-radius: 0.25em;background-color: #f0f8ff;}#sk-container-id-5 input.sk-toggleable__control:checked~div.sk-toggleable__content {max-height: 200px;max-width: 100%;overflow: auto;}#sk-container-id-5 input.sk-toggleable__control:checked~label.sk-toggleable__label-arrow:before {content: \"▾\";}#sk-container-id-5 div.sk-estimator input.sk-toggleable__control:checked~label.sk-toggleable__label {background-color: #d4ebff;}#sk-container-id-5 div.sk-label input.sk-toggleable__control:checked~label.sk-toggleable__label {background-color: #d4ebff;}#sk-container-id-5 input.sk-hidden--visually {border: 0;clip: rect(1px 1px 1px 1px);clip: rect(1px, 1px, 1px, 1px);height: 1px;margin: -1px;overflow: hidden;padding: 0;position: absolute;width: 1px;}#sk-container-id-5 div.sk-estimator {font-family: monospace;background-color: #f0f8ff;border: 1px dotted black;border-radius: 0.25em;box-sizing: border-box;margin-bottom: 0.5em;}#sk-container-id-5 div.sk-estimator:hover {background-color: #d4ebff;}#sk-container-id-5 div.sk-parallel-item::after {content: \"\";width: 100%;border-bottom: 1px solid gray;flex-grow: 1;}#sk-container-id-5 div.sk-label:hover label.sk-toggleable__label {background-color: #d4ebff;}#sk-container-id-5 div.sk-serial::before {content: \"\";position: absolute;border-left: 1px solid gray;box-sizing: border-box;top: 0;bottom: 0;left: 50%;z-index: 0;}#sk-container-id-5 div.sk-serial {display: flex;flex-direction: column;align-items: center;background-color: white;padding-right: 0.2em;padding-left: 0.2em;position: relative;}#sk-container-id-5 div.sk-item {position: relative;z-index: 1;}#sk-container-id-5 div.sk-parallel {display: flex;align-items: stretch;justify-content: center;background-color: white;position: relative;}#sk-container-id-5 div.sk-item::before, #sk-container-id-5 div.sk-parallel-item::before {content: \"\";position: absolute;border-left: 1px solid gray;box-sizing: border-box;top: 0;bottom: 0;left: 50%;z-index: -1;}#sk-container-id-5 div.sk-parallel-item {display: flex;flex-direction: column;z-index: 1;position: relative;background-color: white;}#sk-container-id-5 div.sk-parallel-item:first-child::after {align-self: flex-end;width: 50%;}#sk-container-id-5 div.sk-parallel-item:last-child::after {align-self: flex-start;width: 50%;}#sk-container-id-5 div.sk-parallel-item:only-child::after {width: 0;}#sk-container-id-5 div.sk-dashed-wrapped {border: 1px dashed gray;margin: 0 0.4em 0.5em 0.4em;box-sizing: border-box;padding-bottom: 0.4em;background-color: white;}#sk-container-id-5 div.sk-label label {font-family: monospace;font-weight: bold;display: inline-block;line-height: 1.2em;}#sk-container-id-5 div.sk-label-container {text-align: center;}#sk-container-id-5 div.sk-container {/* jupyter's `normalize.less` sets `[hidden] { display: none; }` but bootstrap.min.css set `[hidden] { display: none !important; }` so we also need the `!important` here to be able to override the default hidden behavior on the sphinx rendered scikit-learn.org. See: https://github.com/scikit-learn/scikit-learn/issues/21755 */display: inline-block !important;position: relative;}#sk-container-id-5 div.sk-text-repr-fallback {display: none;}</style><div id=\"sk-container-id-5\" class=\"sk-top-container\"><div class=\"sk-text-repr-fallback\"><pre>MinMaxScaler()</pre><b>In a Jupyter environment, please rerun this cell to show the HTML representation or trust the notebook. <br />On GitHub, the HTML representation is unable to render, please try loading this page with nbviewer.org.</b></div><div class=\"sk-container\" hidden><div class=\"sk-item\"><div class=\"sk-estimator sk-toggleable\"><input class=\"sk-toggleable__control sk-hidden--visually\" id=\"sk-estimator-id-5\" type=\"checkbox\" checked><label for=\"sk-estimator-id-5\" class=\"sk-toggleable__label sk-toggleable__label-arrow\">MinMaxScaler</label><div class=\"sk-toggleable__content\"><pre>MinMaxScaler()</pre></div></div></div></div></div>"
      ],
      "text/plain": [
       "MinMaxScaler()"
      ]
     },
     "execution_count": 671,
     "metadata": {},
     "output_type": "execute_result"
    }
   ],
   "source": [
    "scaler.fit(X_train)"
   ]
  },
  {
   "cell_type": "code",
   "execution_count": 672,
   "id": "6319e6a5",
   "metadata": {},
   "outputs": [],
   "source": [
    "X_train = scaler.transform(X_train)\n",
    "X_test = scaler.transform(X_test)"
   ]
  },
  {
   "cell_type": "code",
   "execution_count": 673,
   "id": "5242cd14",
   "metadata": {},
   "outputs": [
    {
     "data": {
      "text/plain": [
       "(891, 8)"
      ]
     },
     "execution_count": 673,
     "metadata": {},
     "output_type": "execute_result"
    }
   ],
   "source": [
    "X_train.shape"
   ]
  },
  {
   "cell_type": "code",
   "execution_count": 674,
   "id": "8eaf2956",
   "metadata": {},
   "outputs": [],
   "source": [
    "early_stop = EarlyStopping(monitor='val_loss', mode='min', verbose=1, patience=25)"
   ]
  },
  {
   "cell_type": "code",
   "execution_count": 675,
   "id": "cc3f009d",
   "metadata": {},
   "outputs": [],
   "source": [
    "model = Sequential()\n",
    "model.add(Dense(units=59,activation='relu'))\n",
    "model.add(Dropout(0.4))\n",
    "\n",
    "model.add(Dense(units=30,activation='relu'))\n",
    "model.add(Dropout(0.4))\n",
    "\n",
    "model.add(Dense(units=15,activation='relu'))\n",
    "model.add(Dropout(0.4))\n",
    "\n",
    "model.add(Dense(units=1,activation='sigmoid'))\n",
    "model.compile(loss='binary_crossentropy', optimizer='adam')"
   ]
  },
  {
   "cell_type": "code",
   "execution_count": 676,
   "id": "4467f8d6",
   "metadata": {},
   "outputs": [
    {
     "name": "stdout",
     "output_type": "stream",
     "text": [
      "Epoch 1/600\n",
      "28/28 [==============================] - 1s 10ms/step - loss: 0.6465 - val_loss: 0.6085\n",
      "Epoch 2/600\n",
      "28/28 [==============================] - 0s 4ms/step - loss: 0.6269 - val_loss: 0.5650\n",
      "Epoch 3/600\n",
      "28/28 [==============================] - 0s 4ms/step - loss: 0.6195 - val_loss: 0.5281\n",
      "Epoch 4/600\n",
      "28/28 [==============================] - 0s 4ms/step - loss: 0.5999 - val_loss: 0.4870\n",
      "Epoch 5/600\n",
      "28/28 [==============================] - 0s 4ms/step - loss: 0.5872 - val_loss: 0.4422\n",
      "Epoch 6/600\n",
      "28/28 [==============================] - 0s 3ms/step - loss: 0.5804 - val_loss: 0.4185\n",
      "Epoch 7/600\n",
      "28/28 [==============================] - 0s 4ms/step - loss: 0.5604 - val_loss: 0.3772\n",
      "Epoch 8/600\n",
      "28/28 [==============================] - 0s 4ms/step - loss: 0.5515 - val_loss: 0.3514\n",
      "Epoch 9/600\n",
      "28/28 [==============================] - 0s 3ms/step - loss: 0.5264 - val_loss: 0.3224\n",
      "Epoch 10/600\n",
      "28/28 [==============================] - 0s 3ms/step - loss: 0.5440 - val_loss: 0.3328\n",
      "Epoch 11/600\n",
      "28/28 [==============================] - 0s 4ms/step - loss: 0.5326 - val_loss: 0.3413\n",
      "Epoch 12/600\n",
      "28/28 [==============================] - 0s 3ms/step - loss: 0.5434 - val_loss: 0.3233\n",
      "Epoch 13/600\n",
      "28/28 [==============================] - 0s 3ms/step - loss: 0.5439 - val_loss: 0.3272\n",
      "Epoch 14/600\n",
      "28/28 [==============================] - 0s 3ms/step - loss: 0.5049 - val_loss: 0.3067\n",
      "Epoch 15/600\n",
      "28/28 [==============================] - 0s 3ms/step - loss: 0.5106 - val_loss: 0.3064\n",
      "Epoch 16/600\n",
      "28/28 [==============================] - 0s 3ms/step - loss: 0.5044 - val_loss: 0.2993\n",
      "Epoch 17/600\n",
      "28/28 [==============================] - 0s 3ms/step - loss: 0.5183 - val_loss: 0.3154\n",
      "Epoch 18/600\n",
      "28/28 [==============================] - 0s 3ms/step - loss: 0.4962 - val_loss: 0.2954\n",
      "Epoch 19/600\n",
      "28/28 [==============================] - 0s 3ms/step - loss: 0.4920 - val_loss: 0.2903\n",
      "Epoch 20/600\n",
      "28/28 [==============================] - 0s 3ms/step - loss: 0.4942 - val_loss: 0.2933\n",
      "Epoch 21/600\n",
      "28/28 [==============================] - 0s 3ms/step - loss: 0.5043 - val_loss: 0.2978\n",
      "Epoch 22/600\n",
      "28/28 [==============================] - 0s 3ms/step - loss: 0.5081 - val_loss: 0.3069\n",
      "Epoch 23/600\n",
      "28/28 [==============================] - 0s 3ms/step - loss: 0.4993 - val_loss: 0.2948\n",
      "Epoch 24/600\n",
      "28/28 [==============================] - 0s 3ms/step - loss: 0.4961 - val_loss: 0.2976\n",
      "Epoch 25/600\n",
      "28/28 [==============================] - 0s 3ms/step - loss: 0.4778 - val_loss: 0.2982\n",
      "Epoch 26/600\n",
      "28/28 [==============================] - 0s 3ms/step - loss: 0.4797 - val_loss: 0.2837\n",
      "Epoch 27/600\n",
      "28/28 [==============================] - 0s 3ms/step - loss: 0.4919 - val_loss: 0.2759\n",
      "Epoch 28/600\n",
      "28/28 [==============================] - 0s 3ms/step - loss: 0.4610 - val_loss: 0.2725\n",
      "Epoch 29/600\n",
      "28/28 [==============================] - 0s 3ms/step - loss: 0.5014 - val_loss: 0.2851\n",
      "Epoch 30/600\n",
      "28/28 [==============================] - 0s 3ms/step - loss: 0.4833 - val_loss: 0.2991\n",
      "Epoch 31/600\n",
      "28/28 [==============================] - 0s 3ms/step - loss: 0.4660 - val_loss: 0.2794\n",
      "Epoch 32/600\n",
      "28/28 [==============================] - 0s 3ms/step - loss: 0.4685 - val_loss: 0.2748\n",
      "Epoch 33/600\n",
      "28/28 [==============================] - 0s 3ms/step - loss: 0.4761 - val_loss: 0.2894\n",
      "Epoch 34/600\n",
      "28/28 [==============================] - 0s 3ms/step - loss: 0.4709 - val_loss: 0.2900\n",
      "Epoch 35/600\n",
      "28/28 [==============================] - 0s 3ms/step - loss: 0.4834 - val_loss: 0.2970\n",
      "Epoch 36/600\n",
      "28/28 [==============================] - 0s 3ms/step - loss: 0.4672 - val_loss: 0.2870\n",
      "Epoch 37/600\n",
      "28/28 [==============================] - 0s 3ms/step - loss: 0.4719 - val_loss: 0.2788\n",
      "Epoch 38/600\n",
      "28/28 [==============================] - 0s 3ms/step - loss: 0.4842 - val_loss: 0.2932\n",
      "Epoch 39/600\n",
      "28/28 [==============================] - 0s 4ms/step - loss: 0.4727 - val_loss: 0.2715\n",
      "Epoch 40/600\n",
      "28/28 [==============================] - 0s 3ms/step - loss: 0.4573 - val_loss: 0.2756\n",
      "Epoch 41/600\n",
      "28/28 [==============================] - 0s 3ms/step - loss: 0.4685 - val_loss: 0.2808\n",
      "Epoch 42/600\n",
      "28/28 [==============================] - 0s 3ms/step - loss: 0.4696 - val_loss: 0.2766\n",
      "Epoch 43/600\n",
      "28/28 [==============================] - 0s 3ms/step - loss: 0.4650 - val_loss: 0.2846\n",
      "Epoch 44/600\n",
      "28/28 [==============================] - 0s 3ms/step - loss: 0.4463 - val_loss: 0.2652\n",
      "Epoch 45/600\n",
      "28/28 [==============================] - 0s 3ms/step - loss: 0.4703 - val_loss: 0.2584\n",
      "Epoch 46/600\n",
      "28/28 [==============================] - 0s 4ms/step - loss: 0.4540 - val_loss: 0.2743\n",
      "Epoch 47/600\n",
      "28/28 [==============================] - 0s 3ms/step - loss: 0.4803 - val_loss: 0.2830\n",
      "Epoch 48/600\n",
      "28/28 [==============================] - 0s 3ms/step - loss: 0.4650 - val_loss: 0.2902\n",
      "Epoch 49/600\n",
      "28/28 [==============================] - 0s 3ms/step - loss: 0.4598 - val_loss: 0.2769\n",
      "Epoch 50/600\n",
      "28/28 [==============================] - 0s 3ms/step - loss: 0.4522 - val_loss: 0.2828\n",
      "Epoch 51/600\n",
      "28/28 [==============================] - 0s 3ms/step - loss: 0.4583 - val_loss: 0.2701\n",
      "Epoch 52/600\n",
      "28/28 [==============================] - 0s 3ms/step - loss: 0.4567 - val_loss: 0.2672\n",
      "Epoch 53/600\n",
      "28/28 [==============================] - 0s 4ms/step - loss: 0.4565 - val_loss: 0.2614\n",
      "Epoch 54/600\n",
      "28/28 [==============================] - 0s 3ms/step - loss: 0.4635 - val_loss: 0.2792\n",
      "Epoch 55/600\n",
      "28/28 [==============================] - 0s 3ms/step - loss: 0.4665 - val_loss: 0.2814\n",
      "Epoch 56/600\n",
      "28/28 [==============================] - 0s 4ms/step - loss: 0.4504 - val_loss: 0.2837\n",
      "Epoch 57/600\n",
      "28/28 [==============================] - 0s 3ms/step - loss: 0.4433 - val_loss: 0.2715\n",
      "Epoch 58/600\n",
      "28/28 [==============================] - 0s 3ms/step - loss: 0.4483 - val_loss: 0.2686\n",
      "Epoch 59/600\n",
      "28/28 [==============================] - 0s 4ms/step - loss: 0.4541 - val_loss: 0.2818\n",
      "Epoch 60/600\n",
      "28/28 [==============================] - 0s 3ms/step - loss: 0.4598 - val_loss: 0.2785\n",
      "Epoch 61/600\n",
      "28/28 [==============================] - 0s 3ms/step - loss: 0.4577 - val_loss: 0.2881\n",
      "Epoch 62/600\n",
      "28/28 [==============================] - 0s 3ms/step - loss: 0.4514 - val_loss: 0.2742\n",
      "Epoch 63/600\n",
      "28/28 [==============================] - 0s 3ms/step - loss: 0.4468 - val_loss: 0.2717\n",
      "Epoch 64/600\n",
      "28/28 [==============================] - 0s 4ms/step - loss: 0.4383 - val_loss: 0.2849\n",
      "Epoch 65/600\n",
      "28/28 [==============================] - 0s 3ms/step - loss: 0.4386 - val_loss: 0.2772\n",
      "Epoch 66/600\n",
      "28/28 [==============================] - 0s 3ms/step - loss: 0.4607 - val_loss: 0.2735\n",
      "Epoch 67/600\n",
      "28/28 [==============================] - 0s 3ms/step - loss: 0.4374 - val_loss: 0.2706\n",
      "Epoch 68/600\n",
      "28/28 [==============================] - 0s 3ms/step - loss: 0.4422 - val_loss: 0.2810\n",
      "Epoch 69/600\n",
      "28/28 [==============================] - 0s 3ms/step - loss: 0.4551 - val_loss: 0.2807\n",
      "Epoch 70/600\n",
      "28/28 [==============================] - 0s 3ms/step - loss: 0.4343 - val_loss: 0.2731\n",
      "Epoch 70: early stopping\n"
     ]
    },
    {
     "data": {
      "text/plain": [
       "<keras.src.callbacks.History at 0x24a37970e50>"
      ]
     },
     "execution_count": 676,
     "metadata": {},
     "output_type": "execute_result"
    }
   ],
   "source": [
    "model.fit(x=X_train, \n",
    "          y=y_train, \n",
    "          epochs=600,\n",
    "          validation_data=(X_test, y_test), verbose=1,\n",
    "          callbacks=[early_stop]\n",
    "          )"
   ]
  },
  {
   "cell_type": "code",
   "execution_count": 677,
   "id": "4bdf1c6f",
   "metadata": {},
   "outputs": [
    {
     "data": {
      "text/plain": [
       "<Axes: >"
      ]
     },
     "execution_count": 677,
     "metadata": {},
     "output_type": "execute_result"
    },
    {
     "data": {
      "image/png": "[encoded data removed]",
      "text/plain": [
       "<Figure size 640x480 with 1 Axes>"
      ]
     },
     "metadata": {},
     "output_type": "display_data"
    }
   ],
   "source": [
    "model_loss = pd.DataFrame(model.history.history)\n",
    "model_loss.plot()"
   ]
  },
  {
   "cell_type": "code",
   "execution_count": 623,
   "id": "f7e4a63f",
   "metadata": {},
   "outputs": [
    {
     "name": "stdout",
     "output_type": "stream",
     "text": [
      "14/14 [==============================] - 0s 2ms/step\n"
     ]
    }
   ],
   "source": [
    "predictions = (model.predict(X_test) > 0.5).astype(\"int32\")"
   ]
  },
  {
   "cell_type": "code",
   "execution_count": 624,
   "id": "4b6d59c6",
   "metadata": {},
   "outputs": [
    {
     "name": "stdout",
     "output_type": "stream",
     "text": [
      "              precision    recall  f1-score   support\n",
      "\n",
      "           0       0.92      0.99      0.95       266\n",
      "           1       0.98      0.85      0.91       152\n",
      "\n",
      "    accuracy                           0.94       418\n",
      "   macro avg       0.95      0.92      0.93       418\n",
      "weighted avg       0.94      0.94      0.94       418\n",
      "\n"
     ]
    }
   ],
   "source": [
    "print(classification_report(y_test,predictions))"
   ]
  },
  {
   "cell_type": "code",
   "execution_count": 625,
   "id": "07e996f1",
   "metadata": {},
   "outputs": [
    {
     "data": {
      "text/plain": [
       "array([[264,   2],\n",
       "       [ 23, 129]], dtype=int64)"
      ]
     },
     "execution_count": 625,
     "metadata": {},
     "output_type": "execute_result"
    }
   ],
   "source": [
    "confusion_matrix(y_test,predictions)"
   ]
  },
  {
   "cell_type": "code",
   "execution_count": 626,
   "id": "e37082fb",
   "metadata": {},
   "outputs": [
    {
     "name": "stdout",
     "output_type": "stream",
     "text": [
      "              precision    recall  f1-score   support\n",
      "\n",
      "           0       0.92      0.99      0.95       266\n",
      "           1       0.98      0.85      0.91       152\n",
      "\n",
      "    accuracy                           0.94       418\n",
      "   macro avg       0.95      0.92      0.93       418\n",
      "weighted avg       0.94      0.94      0.94       418\n",
      "\n"
     ]
    }
   ],
   "source": [
    "print(classification_report(y_test,predictions))"
   ]
  },
  {
   "cell_type": "code",
   "execution_count": 639,
   "id": "f17f8dd4",
   "metadata": {},
   "outputs": [],
   "source": [
    "ID = pd.read_csv('gender_submission.csv').drop(columns=['Survived'])"
   ]
  },
  {
   "cell_type": "code",
   "execution_count": 640,
   "id": "9d5a1a24",
   "metadata": {},
   "outputs": [],
   "source": [
    "predictions.shape = (418)\n",
    "pre = pd.Series(predictions)\n",
    "pre = pd.DataFrame(data=pre, columns=['Survived'])"
   ]
  },
  {
   "cell_type": "code",
   "execution_count": 642,
   "id": "8be4023a",
   "metadata": {},
   "outputs": [],
   "source": [
    "submission = pd.concat([ID,pre], axis=1)"
   ]
  },
  {
   "cell_type": "code",
   "execution_count": 643,
   "id": "a5f72875",
   "metadata": {},
   "outputs": [
    {
     "data": {
      "text/html": [
       "<div>\n",
       "<style scoped>\n",
       "    .dataframe tbody tr th:only-of-type {\n",
       "        vertical-align: middle;\n",
       "    }\n",
       "\n",
       "    .dataframe tbody tr th {\n",
       "        vertical-align: top;\n",
       "    }\n",
       "\n",
       "    .dataframe thead th {\n",
       "        text-align: right;\n",
       "    }\n",
       "</style>\n",
       "<table border=\"1\" class=\"dataframe\">\n",
       "  <thead>\n",
       "    <tr style=\"text-align: right;\">\n",
       "      <th></th>\n",
       "      <th>PassengerId</th>\n",
       "      <th>Survived</th>\n",
       "    </tr>\n",
       "  </thead>\n",
       "  <tbody>\n",
       "    <tr>\n",
       "      <th>0</th>\n",
       "      <td>892</td>\n",
       "      <td>0</td>\n",
       "    </tr>\n",
       "    <tr>\n",
       "      <th>1</th>\n",
       "      <td>893</td>\n",
       "      <td>0</td>\n",
       "    </tr>\n",
       "    <tr>\n",
       "      <th>2</th>\n",
       "      <td>894</td>\n",
       "      <td>0</td>\n",
       "    </tr>\n",
       "    <tr>\n",
       "      <th>3</th>\n",
       "      <td>895</td>\n",
       "      <td>0</td>\n",
       "    </tr>\n",
       "    <tr>\n",
       "      <th>4</th>\n",
       "      <td>896</td>\n",
       "      <td>0</td>\n",
       "    </tr>\n",
       "    <tr>\n",
       "      <th>...</th>\n",
       "      <td>...</td>\n",
       "      <td>...</td>\n",
       "    </tr>\n",
       "    <tr>\n",
       "      <th>413</th>\n",
       "      <td>1305</td>\n",
       "      <td>0</td>\n",
       "    </tr>\n",
       "    <tr>\n",
       "      <th>414</th>\n",
       "      <td>1306</td>\n",
       "      <td>1</td>\n",
       "    </tr>\n",
       "    <tr>\n",
       "      <th>415</th>\n",
       "      <td>1307</td>\n",
       "      <td>0</td>\n",
       "    </tr>\n",
       "    <tr>\n",
       "      <th>416</th>\n",
       "      <td>1308</td>\n",
       "      <td>0</td>\n",
       "    </tr>\n",
       "    <tr>\n",
       "      <th>417</th>\n",
       "      <td>1309</td>\n",
       "      <td>0</td>\n",
       "    </tr>\n",
       "  </tbody>\n",
       "</table>\n",
       "<p>418 rows × 2 columns</p>\n",
       "</div>"
      ],
      "text/plain": [
       "     PassengerId  Survived\n",
       "0            892         0\n",
       "1            893         0\n",
       "2            894         0\n",
       "3            895         0\n",
       "4            896         0\n",
       "..           ...       ...\n",
       "413         1305         0\n",
       "414         1306         1\n",
       "415         1307         0\n",
       "416         1308         0\n",
       "417         1309         0\n",
       "\n",
       "[418 rows x 2 columns]"
      ]
     },
     "execution_count": 643,
     "metadata": {},
     "output_type": "execute_result"
    }
   ],
   "source": [
    "submission"
   ]
  },
  {
   "cell_type": "code",
   "execution_count": null,
   "id": "e889eba7",
   "metadata": {},
   "outputs": [],
   "source": []
  }
 ],
 "metadata": {
  "kernelspec": {
   "display_name": "Python 3 (ipykernel)",
   "language": "python",
   "name": "python3"
  },
  "language_info": {
   "codemirror_mode": {
    "name": "ipython",
    "version": 3
   },
   "file_extension": ".py",
   "mimetype": "text/x-python",
   "name": "python",
   "nbconvert_exporter": "python",
   "pygments_lexer": "ipython3",
   "version": "3.11.5"
  }
 },
 "nbformat": 4,
 "nbformat_minor": 5
}
